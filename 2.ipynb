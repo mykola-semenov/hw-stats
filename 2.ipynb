{
 "cells": [
  {
   "cell_type": "code",
   "execution_count": 1,
   "metadata": {},
   "outputs": [],
   "source": [
    "import numpy as np\n",
    "from scipy.stats import uniform, norm, f, t"
   ]
  },
  {
   "cell_type": "markdown",
   "metadata": {},
   "source": [
    "Случайный вектор $(\\xi_1, \\xi_2, \\xi_3, \\xi_4, \\xi_5, \\eta)$ имеет компоненты, распределённые по следующему закону: $\\xi_i \\sim R(-1, 1)$, $\\eta \\sim N(2 + 3 x_1 - 2 x_2 + x_3 + x_4 - x_5, 1.5^2)$, где $x_i$ это значения, которые принимает случайная величина $\\xi_i$. Сгенерировать выборку объёма $n = 50$."
   ]
  },
  {
   "cell_type": "code",
   "execution_count": 2,
   "metadata": {},
   "outputs": [],
   "source": [
    "np.random.seed(15)\n",
    "n = 50\n",
    "m = 5\n",
    "X = np.hstack((np.ones((n, 1)), uniform(-1, 2).rvs(size=(n, m))))\n",
    "b_true = np.array([[2, 3, -2, 1, 1, -1]])\n",
    "y = norm(X @ b_true.T, 1.5).rvs()"
   ]
  },
  {
   "cell_type": "markdown",
   "metadata": {},
   "source": [
    "**a**. Проверить переменные $\\xi_i$ на мультиколлинеарность"
   ]
  },
  {
   "cell_type": "code",
   "execution_count": 3,
   "metadata": {},
   "outputs": [
    {
     "name": "stdout",
     "output_type": "stream",
     "text": [
      "r12 = -0.1101\n",
      "r13 = 0.0386\n",
      "r14 = -0.0425\n",
      "r15 = -0.0990\n",
      "r23 = 0.1040\n",
      "r24 = -0.0514\n",
      "r25 = -0.0823\n",
      "r34 = -0.0801\n",
      "r35 = 0.0444\n",
      "r45 = 0.0910\n"
     ]
    }
   ],
   "source": [
    "for i in range(1, m):\n",
    "    for j in range(i + 1, m + 1):\n",
    "        print(f'r{i}{j} = %.4f' % np.corrcoef(X[:,i], X[:,j])[1, 0])"
   ]
  },
  {
   "cell_type": "code",
   "execution_count": 111,
   "metadata": {},
   "outputs": [],
   "source": [
    "def get_R2(y, y_true):\n",
    "    RSS0 = ((y_true - y_true.mean()) ** 2).sum()\n",
    "    RSS = ((y_true - y) ** 2).sum()\n",
    "    return (RSS0 - RSS)/RSS0"
   ]
  },
  {
   "cell_type": "code",
   "execution_count": 112,
   "metadata": {},
   "outputs": [],
   "source": [
    "def regression_p_val(R2, n, p):\n",
    "    delta = R2 / (1 - R2) * (n - p) / (p - 1)\n",
    "    return 1 - f(p - 1, n - p).cdf(delta)"
   ]
  },
  {
   "cell_type": "code",
   "execution_count": 113,
   "metadata": {},
   "outputs": [
    {
     "name": "stdout",
     "output_type": "stream",
     "text": [
      "x1: R2 = 0.0282, pval = 0.8585\n",
      "x2: R2 = 0.0352, pval = 0.8005\n",
      "x3: R2 = 0.0228, pval = 0.9001\n",
      "x4: R2 = 0.0178, pval = 0.9348\n",
      "x5: R2 = 0.0295, pval = 0.8483\n"
     ]
    }
   ],
   "source": [
    "for i in range(1, m + 1):\n",
    "    X_i = np.delete(X, i, axis=1)\n",
    "    y_i = X[:, i].T\n",
    "    \n",
    "    F_i = X_i.T @ X_i\n",
    "    b_i = np.linalg.inv(F_i) @ X_i.T @ y_i\n",
    "\n",
    "    R2_i = get_R2(X_i @ b_i, y_i)\n",
    "    \n",
    "    m_i = m - 1\n",
    "    p_i = m_i + 1 # (m_i + 1) т. к. учитываем коэффициент сдвига\n",
    "\n",
    "    pval_i = regression_p_val(R2_i, n, p_i)\n",
    "    print(f'x{i}: R2 = %.4f, pval = %.4f' % (R2_i, pval_i))"
   ]
  },
  {
   "cell_type": "markdown",
   "metadata": {},
   "source": [
    "**b**. Определить уравнение линейной регрессии $\\eta = \\beta_0 + \\sum_{i = 1}^5 \\beta_i \\xi_i$ и проверить значимость коэффициентов"
   ]
  },
  {
   "cell_type": "code",
   "execution_count": 114,
   "metadata": {},
   "outputs": [
    {
     "name": "stdout",
     "output_type": "stream",
     "text": [
      "2.0092 2.9520 -2.3268 1.1635 1.3157 -0.4425\n"
     ]
    }
   ],
   "source": [
    "F = X.T @ X\n",
    "F_inv = np.linalg.inv(F)\n",
    "b = F_inv @ X.T @ y\n",
    "print(*('%.4f' % x for x in b.flatten()))"
   ]
  },
  {
   "cell_type": "code",
   "execution_count": 115,
   "metadata": {},
   "outputs": [],
   "source": [
    "y_pred = X @ b"
   ]
  },
  {
   "cell_type": "markdown",
   "metadata": {},
   "source": [
    "Значимость коэффициентов:"
   ]
  },
  {
   "cell_type": "code",
   "execution_count": 116,
   "metadata": {},
   "outputs": [
    {
     "name": "stdout",
     "output_type": "stream",
     "text": [
      "b0: pval = 5.7732e-15\n",
      "b1: pval = 5.5511e-15\n",
      "b2: pval = 2.6753e-10\n",
      "b3: pval = 2.7879e-04\n",
      "b4: pval = 5.5776e-05\n",
      "b5: pval = 1.6549e-01\n"
     ]
    }
   ],
   "source": [
    "for i in range(m + 1):\n",
    "    p_i = m + 1 # (m + 1) т. к. учитываем коэффициент сдвига\n",
    "    RSS_i = ((y - y_pred) ** 2).sum()\n",
    "    delta_i = b[i, 0] / (RSS_i * F_inv[i, i]) ** 0.5 * (n - p_i) ** 0.5\n",
    "    \n",
    "    pval_i = 2 * (1 - t(n - p_i).cdf(abs(delta_i)))\n",
    "    print(f'b{i}: pval = %.4e' % pval_i)"
   ]
  },
  {
   "cell_type": "markdown",
   "metadata": {},
   "source": [
    "**c**. Определить коэффициент детерминации и проверить его значимость"
   ]
  },
  {
   "cell_type": "code",
   "execution_count": 117,
   "metadata": {},
   "outputs": [
    {
     "name": "stdout",
     "output_type": "stream",
     "text": [
      "R2 = 0.8552\n"
     ]
    }
   ],
   "source": [
    "R2 = get_R2(y_pred, y)\n",
    "print('R2 = %.4f' % R2)"
   ]
  },
  {
   "cell_type": "code",
   "execution_count": 118,
   "metadata": {},
   "outputs": [
    {
     "name": "stdout",
     "output_type": "stream",
     "text": [
      "pval = 1.1102e-16\n"
     ]
    }
   ],
   "source": [
    "p = m + 1 # (m + 1) т. к. учитываем коэффициент сдвига\n",
    "pval = regression_p_val(R2, n, p)\n",
    "print(f'pval = %.4e' % pval)"
   ]
  },
  {
   "cell_type": "markdown",
   "metadata": {},
   "source": [
    "**d**. Найти значение в точке $x_i = 0$ и построить $95\\%$ доверительный интервал"
   ]
  },
  {
   "cell_type": "code",
   "execution_count": 12,
   "metadata": {},
   "outputs": [
    {
     "name": "stdout",
     "output_type": "stream",
     "text": [
      "2.0092024505973427\n"
     ]
    }
   ],
   "source": [
    "#значение в нуле равно значению свободного члена:\n",
    "x = np.array([1, 0, 0, 0, 0, 0])\n",
    "print(*x @ b)"
   ]
  },
  {
   "cell_type": "code",
   "execution_count": 13,
   "metadata": {
    "scrolled": true
   },
   "outputs": [
    {
     "name": "stdout",
     "output_type": "stream",
     "text": [
      "-0.3254762009569019 4.343881102151587\n"
     ]
    }
   ],
   "source": [
    "alpha = 0.95\n",
    "RSS = ((X @ b - y) ** 2).sum()\n",
    "delta = t(n - p).interval(alpha)[1] * ((1 + (x @ F_inv @ x.T)) * RSS) ** 0.5 / (n - p) ** 0.5\n",
    "\n",
    "print(b[0, 0] - delta, b[0, 0] + delta)"
   ]
  },
  {
   "cell_type": "markdown",
   "metadata": {},
   "source": [
    "**e**. Проверить предположение о независимости ошибок"
   ]
  },
  {
   "cell_type": "code",
   "execution_count": 14,
   "metadata": {},
   "outputs": [],
   "source": [
    "eps = (X @ b - y).T[0]\n",
    "I = 0\n",
    "for i in range(eps.shape[0] - 1):\n",
    "    I += (eps[:i] > eps[i]).sum()"
   ]
  },
  {
   "cell_type": "code",
   "execution_count": 15,
   "metadata": {},
   "outputs": [],
   "source": [
    "I = sum((eps[i + 1:] < eps[i]).sum() for i in range(eps.shape[0]))"
   ]
  },
  {
   "cell_type": "code",
   "execution_count": 16,
   "metadata": {},
   "outputs": [
    {
     "name": "stdout",
     "output_type": "stream",
     "text": [
      "pval = 0.7925\n"
     ]
    }
   ],
   "source": [
    "delta = (I - 0.25 * n * (n - 1)) / (n ** 3 / 36) ** 0.5\n",
    "pval = 2 * (1 - norm(0, 1).cdf(abs(delta)))\n",
    "print('pval = %.4f' % pval)"
   ]
  },
  {
   "cell_type": "markdown",
   "metadata": {},
   "source": [
    "**f**. Проверить предположение о нормальности распределения ошибок"
   ]
  },
  {
   "cell_type": "code",
   "execution_count": 17,
   "metadata": {},
   "outputs": [],
   "source": [
    "eps.sort()"
   ]
  },
  {
   "cell_type": "code",
   "execution_count": 18,
   "metadata": {},
   "outputs": [],
   "source": [
    "mu = eps.mean()\n",
    "sigma = (((eps - mu) ** 2).sum() / (n - 1)) ** 0.5"
   ]
  },
  {
   "cell_type": "code",
   "execution_count": 19,
   "metadata": {},
   "outputs": [],
   "source": [
    "delta = np.abs(norm(mu, sigma).cdf(eps) - (np.arange(n) + 1) / n).max()"
   ]
  },
  {
   "cell_type": "code",
   "execution_count": 127,
   "metadata": {},
   "outputs": [
    {
     "name": "stdout",
     "output_type": "stream",
     "text": [
      "pval = 1.0000\n"
     ]
    }
   ],
   "source": [
    "N = 200000\n",
    "sample = norm(0, 1).rvs(size=(N, n))\n",
    "sample.sort(axis=1)\n",
    "mu_i = sample.mean(axis=1)\n",
    "sigma_i = (((sample - mu_i.reshape(-1, 1)) ** 2).sum(axis=1) / (n - 1)) ** 0.5\n",
    "delta_i = np.abs(norm(mu_i, sigma_i).cdf(sample.T).T - (np.arange(n) + 1) / n).max(axis=1)\n",
    "pval = (delta_i > delta).sum() / N\n",
    "print('pval = %.4f' % pval)"
   ]
  },
  {
   "cell_type": "markdown",
   "metadata": {},
   "source": [
    "**g**. Провести кросс-валидацию регрессии."
   ]
  },
  {
   "cell_type": "code",
   "execution_count": 21,
   "metadata": {},
   "outputs": [],
   "source": [
    "RSS_i = np.zeros(n)\n",
    "for i in range(n):\n",
    "    y_i = np.delete(y, i, axis=0)\n",
    "    X_i = np.delete(X, i, axis=0)\n",
    "    F_i = X_i.T @ X_i\n",
    "    b_i = np.linalg.inv(F_i) @ X_i.T @ y_i\n",
    "    RSS_i[i] = (X[i] @ b_i - y[i]) ** 2"
   ]
  },
  {
   "cell_type": "code",
   "execution_count": 22,
   "metadata": {},
   "outputs": [
    {
     "name": "stdout",
     "output_type": "stream",
     "text": [
      "R2_cv = 0.8127\n",
      "R2 = 0.8552\n"
     ]
    }
   ],
   "source": [
    "RSS = RSS_i.sum()\n",
    "RSS0 = ((y - y.mean()) ** 2).sum()\n",
    "print('R2_cv = %.4f' % ((RSS0 - RSS) / RSS0))\n",
    "print('R2 = %.4f' % R2)"
   ]
  },
  {
   "cell_type": "markdown",
   "metadata": {},
   "source": [
    "**h**. Проверить адекватность регрессии, сделав 5 повторных измерений в одной точке."
   ]
  },
  {
   "cell_type": "code",
   "execution_count": 46,
   "metadata": {},
   "outputs": [],
   "source": [
    "k = 5\n",
    "x = np.array([[1, 0.5, 0, 0, 0, 0]])\n",
    "y_rep = norm(x @ b_true.T, 1.5).rvs(k) "
   ]
  },
  {
   "cell_type": "code",
   "execution_count": 47,
   "metadata": {},
   "outputs": [
    {
     "name": "stdout",
     "output_type": "stream",
     "text": [
      "pval =  0.6284765396746522\n"
     ]
    }
   ],
   "source": [
    "sigma_rep_2 = ((y_rep - y_rep.mean()) ** 2).sum() / (k - 1)\n",
    "p = m + 1 # (m + 1) т. к. учитываем коэффициент сдвига\n",
    "pval = 1 - f((n - p), (k - 1)).cdf(((y_pred - y) ** 2).sum() / (sigma_rep_2 * (n - p)))\n",
    "print('pval = ', pval)"
   ]
  },
  {
   "cell_type": "markdown",
   "metadata": {},
   "source": [
    "**i**. Удалить переменную, соответствующую наименее значимому коэффициенту и повторить пункты b и c, сравнить уравнения регрессии."
   ]
  },
  {
   "cell_type": "code",
   "execution_count": 56,
   "metadata": {},
   "outputs": [],
   "source": [
    "X_new = np.delete(X, 5, axis = 1)\n",
    "m_new = m - 1"
   ]
  },
  {
   "cell_type": "code",
   "execution_count": 57,
   "metadata": {},
   "outputs": [
    {
     "name": "stdout",
     "output_type": "stream",
     "text": [
      "1.9638 2.9909 -2.2879 1.1362 1.2795\n"
     ]
    }
   ],
   "source": [
    "F_new = X_new.T @ X_new\n",
    "F_new_inv = np.linalg.inv(F_new)\n",
    "b_new = F_new_inv @ X_new.T @ y\n",
    "print(*('%.4f' % x for x in b_new.flatten()))"
   ]
  },
  {
   "cell_type": "code",
   "execution_count": 58,
   "metadata": {},
   "outputs": [],
   "source": [
    "y_new_pred = X_new @ b_new"
   ]
  },
  {
   "cell_type": "markdown",
   "metadata": {},
   "source": [
    "Значимость коэффициентов:"
   ]
  },
  {
   "cell_type": "code",
   "execution_count": 61,
   "metadata": {},
   "outputs": [
    {
     "name": "stdout",
     "output_type": "stream",
     "text": [
      "b0: pval = 3.3307e-15\n",
      "b1: pval = 4.4409e-15\n",
      "b2: pval = 2.6897e-10\n",
      "b3: pval = 3.0274e-04\n",
      "b4: pval = 5.9670e-05\n"
     ]
    }
   ],
   "source": [
    "for i in range(m_new + 1):\n",
    "    p_i = m_new + 1 # (m + 1) т. к. учитываем коэффициент сдвига\n",
    "    RSS_i = ((y - y_new_pred) ** 2).sum()\n",
    "    delta_i = b[i, 0] / (RSS_i * F_new_inv[i, i]) ** 0.5 * (n - p_i) ** 0.5\n",
    "    \n",
    "    pval_i = 2 * (1 - t(n - p_i).cdf(abs(delta_i)))\n",
    "    print(f'b{i}: pval = %.4e' % pval_i)"
   ]
  },
  {
   "cell_type": "markdown",
   "metadata": {},
   "source": [
    "Коэффициент детерминации и его значимость"
   ]
  },
  {
   "cell_type": "code",
   "execution_count": 107,
   "metadata": {},
   "outputs": [
    {
     "name": "stdout",
     "output_type": "stream",
     "text": [
      "R2_new = 0.8487\n"
     ]
    }
   ],
   "source": [
    "R2_new = get_R2(y_new_pred, y)\n",
    "print('R2_new = %.4f' % R2)"
   ]
  },
  {
   "cell_type": "code",
   "execution_count": 108,
   "metadata": {},
   "outputs": [
    {
     "name": "stdout",
     "output_type": "stream",
     "text": [
      "pval = 1.1102e-16\n"
     ]
    }
   ],
   "source": [
    "p_new = m_new + 1 # (m + 1) т. к. учитываем коэффициент сдвига\n",
    "pval = regression_p_val(R2_new, n, p_new)\n",
    "print(f'pval = %.4e' % pval)"
   ]
  },
  {
   "cell_type": "markdown",
   "metadata": {},
   "source": [
    "**j**. Сравнить уравнения регрессии бутстрепом"
   ]
  },
  {
   "cell_type": "code",
   "execution_count": 125,
   "metadata": {},
   "outputs": [
    {
     "name": "stdout",
     "output_type": "stream",
     "text": [
      "pval = 0.4398\n"
     ]
    }
   ],
   "source": [
    "N = 200000\n",
    "index = np.random.randint(0, n, size=(N, n))\n",
    "delta = (R2 - R2_new) / R2\n",
    "deltas = np.zeros(N)\n",
    "for i, X_i, y_i in zip(range(N), X[index], y[index]):\n",
    "    F_i = X_i.T @ X_i\n",
    "    F_i_inv = np.linalg.inv(F_i)\n",
    "    b_i = F_i_inv @ X_i.T @ y_i\n",
    "    R2_i = get_R2(X_i @ b_i, y_i)\n",
    "    \n",
    "    X_i_new = np.delete(X_i, 5, axis=1)\n",
    "    \n",
    "    F_i_new = X_i_new.T @ X_i_new\n",
    "    F_i_new_inv = np.linalg.inv(F_i_new)\n",
    "    b_i_new = F_i_new_inv @ X_i_new.T @ y_i\n",
    "    R2_i_new = get_R2(X_i_new @ b_i_new, y_i)\n",
    "    \n",
    "    deltas[i] = (R2_i - R2_i_new) / R2_i\n",
    "print('pval = %.4f' % (deltas > delta).mean())"
   ]
  },
  {
   "cell_type": "code",
   "execution_count": null,
   "metadata": {},
   "outputs": [],
   "source": []
  }
 ],
 "metadata": {
  "kernelspec": {
   "display_name": "Python 3",
   "language": "python",
   "name": "python3"
  },
  "language_info": {
   "codemirror_mode": {
    "name": "ipython",
    "version": 3
   },
   "file_extension": ".py",
   "mimetype": "text/x-python",
   "name": "python",
   "nbconvert_exporter": "python",
   "pygments_lexer": "ipython3",
   "version": "3.7.1"
  }
 },
 "nbformat": 4,
 "nbformat_minor": 2
}
